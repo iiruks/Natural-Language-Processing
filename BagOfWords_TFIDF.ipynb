{
 "cells": [
  {
   "cell_type": "markdown",
   "id": "eaa9c4b5",
   "metadata": {},
   "source": [
    "# Part A: Bag of Words"
   ]
  },
  {
   "cell_type": "code",
   "execution_count": 19,
   "id": "bec2f6fb",
   "metadata": {},
   "outputs": [
    {
     "name": "stdout",
     "output_type": "stream",
     "text": [
      "[1. 1. 0. 1.]\n"
     ]
    }
   ],
   "source": [
    "import numpy as np\n",
    "\n",
    "\"\"\"\n",
    "    text: a string\n",
    "    dict_size: size of the dictionary\n",
    "    words: array of input text after split\n",
    "    words_to_index: dictionary that maps words to their indices\n",
    "    return a vector which is a bag-of-words representation of 'text'\n",
    "\"\"\"\n",
    "\n",
    "def my_bag_of_words(text, words_to_index, dict_size):\n",
    "  result_vector = np.zeros(dict_size)\n",
    "  words = text.split()\n",
    "  for word in words:\n",
    "    if word in words_to_index:\n",
    "      result_vector[words_to_index[word]] += 1\n",
    "\n",
    "  return result_vector\n",
    "\n",
    "words_to_index = {'hi':0, 'you':1, 'me':2, 'are':3}\n",
    "dict_size = 4\n",
    "\n",
    "text = 'hi how are you'\n",
    "\n",
    "the_vector = my_bag_of_words(text, words_to_index, dict_size)\n",
    "print(the_vector)"
   ]
  },
  {
   "cell_type": "markdown",
   "id": "d1a98222",
   "metadata": {},
   "source": [
    "# Part B: TF-IDF"
   ]
  },
  {
   "cell_type": "markdown",
   "id": "3e8bf7ab",
   "metadata": {},
   "source": [
    "## 1. Test the script tfidf_demo.ipynb in the Jupiter note and make sure they work. "
   ]
  },
  {
   "cell_type": "code",
   "execution_count": 20,
   "id": "e2ddfa46",
   "metadata": {},
   "outputs": [
    {
     "data": {
      "text/html": [
       "<div>\n",
       "<style scoped>\n",
       "    .dataframe tbody tr th:only-of-type {\n",
       "        vertical-align: middle;\n",
       "    }\n",
       "\n",
       "    .dataframe tbody tr th {\n",
       "        vertical-align: top;\n",
       "    }\n",
       "\n",
       "    .dataframe thead th {\n",
       "        text-align: right;\n",
       "    }\n",
       "</style>\n",
       "<table border=\"1\" class=\"dataframe\">\n",
       "  <thead>\n",
       "    <tr style=\"text-align: right;\">\n",
       "      <th></th>\n",
       "      <th>good movie</th>\n",
       "      <th>like</th>\n",
       "      <th>movie</th>\n",
       "      <th>not</th>\n",
       "    </tr>\n",
       "  </thead>\n",
       "  <tbody>\n",
       "    <tr>\n",
       "      <th>0</th>\n",
       "      <td>0.707107</td>\n",
       "      <td>0.000000</td>\n",
       "      <td>0.707107</td>\n",
       "      <td>0.000000</td>\n",
       "    </tr>\n",
       "    <tr>\n",
       "      <th>1</th>\n",
       "      <td>0.577350</td>\n",
       "      <td>0.000000</td>\n",
       "      <td>0.577350</td>\n",
       "      <td>0.577350</td>\n",
       "    </tr>\n",
       "    <tr>\n",
       "      <th>2</th>\n",
       "      <td>0.000000</td>\n",
       "      <td>0.707107</td>\n",
       "      <td>0.000000</td>\n",
       "      <td>0.707107</td>\n",
       "    </tr>\n",
       "    <tr>\n",
       "      <th>3</th>\n",
       "      <td>0.000000</td>\n",
       "      <td>1.000000</td>\n",
       "      <td>0.000000</td>\n",
       "      <td>0.000000</td>\n",
       "    </tr>\n",
       "    <tr>\n",
       "      <th>4</th>\n",
       "      <td>0.000000</td>\n",
       "      <td>0.000000</td>\n",
       "      <td>0.000000</td>\n",
       "      <td>0.000000</td>\n",
       "    </tr>\n",
       "  </tbody>\n",
       "</table>\n",
       "</div>"
      ],
      "text/plain": [
       "   good movie      like     movie       not\n",
       "0    0.707107  0.000000  0.707107  0.000000\n",
       "1    0.577350  0.000000  0.577350  0.577350\n",
       "2    0.000000  0.707107  0.000000  0.707107\n",
       "3    0.000000  1.000000  0.000000  0.000000\n",
       "4    0.000000  0.000000  0.000000  0.000000"
      ]
     },
     "execution_count": 20,
     "metadata": {},
     "output_type": "execute_result"
    }
   ],
   "source": [
    "from sklearn.feature_extraction.text import TfidfVectorizer\n",
    "import pandas as pd\n",
    "texts = [\n",
    "    \"good movie\", \"not a good movie\", \"did not like\", \n",
    "    \"i like it\", \"good one\"\n",
    "]\n",
    "\n",
    "tfidf = TfidfVectorizer(min_df=2, max_df=0.5, ngram_range=(1, 2))\n",
    "features = tfidf.fit_transform(texts)\n",
    "pd.DataFrame(\n",
    "    features.todense(),\n",
    "    columns=tfidf.get_feature_names_out()  #as get_feature_names() is the part of older version of scikit-learn, I used get_feature_names_out()\n",
    ")\n"
   ]
  },
  {
   "cell_type": "markdown",
   "id": "327d90f8",
   "metadata": {},
   "source": [
    "## 2. Replace the movie review data \"texts\" in the script file with your own defined document and test it."
   ]
  },
  {
   "cell_type": "code",
   "execution_count": 21,
   "id": "a2cdc6ab",
   "metadata": {},
   "outputs": [
    {
     "data": {
      "text/html": [
       "<div>\n",
       "<style scoped>\n",
       "    .dataframe tbody tr th:only-of-type {\n",
       "        vertical-align: middle;\n",
       "    }\n",
       "\n",
       "    .dataframe tbody tr th {\n",
       "        vertical-align: top;\n",
       "    }\n",
       "\n",
       "    .dataframe thead th {\n",
       "        text-align: right;\n",
       "    }\n",
       "</style>\n",
       "<table border=\"1\" class=\"dataframe\">\n",
       "  <thead>\n",
       "    <tr style=\"text-align: right;\">\n",
       "      <th></th>\n",
       "      <th>is used</th>\n",
       "      <th>nlp</th>\n",
       "      <th>program</th>\n",
       "      <th>text</th>\n",
       "      <th>this</th>\n",
       "      <th>used</th>\n",
       "    </tr>\n",
       "  </thead>\n",
       "  <tbody>\n",
       "    <tr>\n",
       "      <th>0</th>\n",
       "      <td>0.00000</td>\n",
       "      <td>0.0</td>\n",
       "      <td>0.00000</td>\n",
       "      <td>0.00000</td>\n",
       "      <td>1.00000</td>\n",
       "      <td>0.00000</td>\n",
       "    </tr>\n",
       "    <tr>\n",
       "      <th>1</th>\n",
       "      <td>0.57735</td>\n",
       "      <td>0.0</td>\n",
       "      <td>0.57735</td>\n",
       "      <td>0.00000</td>\n",
       "      <td>0.00000</td>\n",
       "      <td>0.57735</td>\n",
       "    </tr>\n",
       "    <tr>\n",
       "      <th>2</th>\n",
       "      <td>0.00000</td>\n",
       "      <td>0.0</td>\n",
       "      <td>0.57735</td>\n",
       "      <td>0.57735</td>\n",
       "      <td>0.57735</td>\n",
       "      <td>0.00000</td>\n",
       "    </tr>\n",
       "    <tr>\n",
       "      <th>3</th>\n",
       "      <td>0.50000</td>\n",
       "      <td>0.5</td>\n",
       "      <td>0.00000</td>\n",
       "      <td>0.50000</td>\n",
       "      <td>0.00000</td>\n",
       "      <td>0.50000</td>\n",
       "    </tr>\n",
       "    <tr>\n",
       "      <th>4</th>\n",
       "      <td>0.00000</td>\n",
       "      <td>1.0</td>\n",
       "      <td>0.00000</td>\n",
       "      <td>0.00000</td>\n",
       "      <td>0.00000</td>\n",
       "      <td>0.00000</td>\n",
       "    </tr>\n",
       "  </tbody>\n",
       "</table>\n",
       "</div>"
      ],
      "text/plain": [
       "   is used  nlp  program     text     this     used\n",
       "0  0.00000  0.0  0.00000  0.00000  1.00000  0.00000\n",
       "1  0.57735  0.0  0.57735  0.00000  0.00000  0.57735\n",
       "2  0.00000  0.0  0.57735  0.57735  0.57735  0.00000\n",
       "3  0.50000  0.5  0.00000  0.50000  0.00000  0.50000\n",
       "4  0.00000  1.0  0.00000  0.00000  0.00000  0.00000"
      ]
     },
     "execution_count": 21,
     "metadata": {},
     "output_type": "execute_result"
    }
   ],
   "source": [
    "from sklearn.feature_extraction.text import TfidfVectorizer\n",
    "import pandas as pd\n",
    "my_texts = [\"This is a python code.\", \"It is used to run a program\", \"By this program I analyze text\", \"Text analysis is used in NLP\", \"I like NLP\"]\n",
    "tfidf = TfidfVectorizer(min_df=2, max_df=0.5, ngram_range=(1, 2))\n",
    "features = tfidf.fit_transform(my_texts)\n",
    "pd.DataFrame(\n",
    "    features.todense(),\n",
    "    columns=tfidf.get_feature_names_out()\n",
    ")"
   ]
  },
  {
   "cell_type": "markdown",
   "id": "ae398207",
   "metadata": {},
   "source": [
    "## 3. Given the below documents. \n",
    "## texts = [ \"good movie\", \"not a good movie\", \"did not like\", \"i like it\", \"good one\"]\n",
    "## Given the definition of TF and IDF, what is the sum of TF-IDF values for 1-grams in \"good movie\" text? Enter a math expression as an answer. "
   ]
  },
  {
   "cell_type": "markdown",
   "id": "261ac61c",
   "metadata": {},
   "source": [
    "#### TF - IDF stands for \"Term Frequency - Inverse Document Frequency\". It gives us the information about how important a word is to a document in a collection or corpus."
   ]
  },
  {
   "cell_type": "code",
   "execution_count": 27,
   "id": "68dc184c",
   "metadata": {},
   "outputs": [
    {
     "name": "stdout",
     "output_type": "stream",
     "text": [
      "1.408157650537996\n"
     ]
    }
   ],
   "source": [
    "from sklearn.feature_extraction.text import TfidfVectorizer\n",
    "texts = [\n",
    "    \"good movie\", \"not a good movie\", \"did not like\", \n",
    "    \"i like it\", \"good one\"\n",
    "]\n",
    "\n",
    "tfidf = TfidfVectorizer(ngram_range=(1, 1))\n",
    "tfidf_matrix = tfidf.fit_transform(texts)\n",
    "tfidf_values = tfidf_matrix[0].toarray()[0] \n",
    "sum_tfidf = sum(tfidf_values)\n",
    "print(sum_tfidf)"
   ]
  }
 ],
 "metadata": {
  "kernelspec": {
   "display_name": "Python 3 (ipykernel)",
   "language": "python",
   "name": "python3"
  },
  "language_info": {
   "codemirror_mode": {
    "name": "ipython",
    "version": 3
   },
   "file_extension": ".py",
   "mimetype": "text/x-python",
   "name": "python",
   "nbconvert_exporter": "python",
   "pygments_lexer": "ipython3",
   "version": "3.10.9"
  }
 },
 "nbformat": 4,
 "nbformat_minor": 5
}
